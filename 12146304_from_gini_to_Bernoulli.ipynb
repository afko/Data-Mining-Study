{
 "cells": [
  {
   "cell_type": "markdown",
   "metadata": {},
   "source": [
    "## Implement function to calculate Gini impurity"
   ]
  },
  {
   "cell_type": "code",
   "execution_count": null,
   "metadata": {
    "collapsed": true
   },
   "outputs": [],
   "source": [
    "# Gini impurity\n",
    "def gini(D):\n",
    "    freq = {}\n",
    "    n=len(D)\n",
    "    for x in D:\n",
    "        if x in freq.keys():\n",
    "            freq[x]+=1\n",
    "        else:\n",
    "            freq[x]=1\n",
    "    prob = [y/n for y in freq.values()]\n",
    "    gini = [x**2 for x in prob]\n",
    "    return 1-sum(gini)"
   ]
  },
  {
   "cell_type": "code",
   "execution_count": null,
   "metadata": {
    "collapsed": true
   },
   "outputs": [],
   "source": [
    "# calculate Gini impurity with given data\n",
    "D = [1,1,1,1,1,2,2,2,3,3,3,3,3,4,4]\n",
    "print(gini(D))"
   ]
  },
  {
   "cell_type": "markdown",
   "metadata": {},
   "source": [
    "## Implement function to calculate best split point based on Gini impurity"
   ]
  },
  {
   "cell_type": "code",
   "execution_count": null,
   "metadata": {
    "collapsed": true
   },
   "outputs": [],
   "source": [
    "# find the best split point\n",
    "def split_gini(x,y):\n",
    "    list = sorted(x)\n",
    "    listA = []\n",
    "    listB = []\n",
    "    splitPoint = 0\n",
    "    IG = gini(y)\n",
    "    MaxIG = 0\n",
    "    for i in range(0,len(list)-1):\n",
    "        if(list[i]!=list[i+1]):\n",
    "            listA = y[:i+1]\n",
    "            listB = y[i+1:]\n",
    "            IG = IG-(gini(listA)*(i+1)/len(list))-(gini(listB)*(len(list)-i-1)/len(list))\n",
    "            \n",
    "            if(IG>MaxIG):\n",
    "                MaxIG = IG\n",
    "                splitPoint = i+1\n",
    "            IG = gini(y)\n",
    "    \n",
    "    return x[splitPoint]\n"
   ]
  },
  {
   "cell_type": "code",
   "execution_count": null,
   "metadata": {
    "collapsed": true
   },
   "outputs": [],
   "source": [
    "x = [1,1,1,1,1,2,2,2,3,3,3,3,3,4,4]\n",
    "y = [0,0,1,1,2,0,0,1,2,2,0,1,2,1,0]\n",
    "print(split_gini(x,y))"
   ]
  },
  {
   "cell_type": "markdown",
   "metadata": {},
   "source": [
    "## Implement cosine distance\n",
    "$d(\\mathbf{x},\\mathbf{y})=1-\\frac{\\mathbf{x}\\cdot \\mathbf{y}}{\\parallel \\mathbf{x}\\parallel \\parallel \\mathbf{y}\\parallel}$"
   ]
  },
  {
   "cell_type": "code",
   "execution_count": null,
   "metadata": {
    "collapsed": true
   },
   "outputs": [],
   "source": [
    "def Cosdist(a,b):\n",
    "    return 1-(sum(x*y for x,y in zip(a,b))/np.sqrt((sum([x**2 for x in a]))*(sum([y**2 for y in b]))))"
   ]
  },
  {
   "cell_type": "code",
   "execution_count": null,
   "metadata": {
    "collapsed": true
   },
   "outputs": [],
   "source": [
    "import numpy as np\n",
    "import pandas as pd\n",
    "\n",
    "n=30\n",
    "a=np.random.rand(n)\n",
    "b=np.random.rand(n)\n",
    " \n",
    "train=pd.DataFrame({'x':a, 'y':b})\n",
    "\n",
    "new= [0.5,0.5]\n",
    "k=5\n",
    "\n",
    "E_dist=[]\n",
    "for p in train.values:\n",
    "    E_dist.append(Edist(new,p))\n",
    "\n",
    "\n",
    "np.sort(E_dist)\n",
    "nn=np.argsort(E_dist)[:k]\n",
    "\n",
    "C_dist=[]\n",
    "for p in train.values:\n",
    "    C_dist.append(Cosdist(new,p))\n",
    "\n",
    "np.sort(C_dist)\n",
    "nn2=np.argsort(C_dist)[:k]\n",
    "\n",
    "\n",
    "import matplotlib.pyplot as plt\n",
    "\n",
    "plt.scatter(new[0],new[1], c='r', s=100)\n",
    "plt.scatter(train.values[:,0],train.values[:,1], c='k')\n",
    "plt.scatter(train.values[nn,0],train.values[nn,1], c='g',marker='*', s=300)\n",
    "\n",
    "plt.scatter(new[0],new[1], c='r', s=100)\n",
    "plt.scatter(train.values[:,0],train.values[:,1], c='k')\n",
    "plt.scatter(train.values[nn2,0],train.values[nn2,1], c='w',marker='s',s=40)"
   ]
  },
  {
   "cell_type": "markdown",
   "metadata": {},
   "source": [
    "## Implement Bernoulli NB"
   ]
  },
  {
   "cell_type": "code",
   "execution_count": null,
   "metadata": {
    "collapsed": true
   },
   "outputs": [],
   "source": [
    "def BNB(x,y):\n",
    "\n",
    "    y_class=list(set(y))\n",
    "    y_n=[]\n",
    "\n",
    "    for yci in y_class:\n",
    "        cnt=0\n",
    "        for yi in y:\n",
    "            if(yi==yci):\n",
    "                cnt=cnt+1\n",
    "        y_n.append(cnt)\n",
    "\n",
    "    prob=[[0 for col in range(len(x[0]))] for row in range(len(y_n))]\n",
    "\n",
    "    for i in range (0, len(x[0])):  \n",
    "        yn_cnt=0\n",
    "        for k in range(0,len(y_n)):\n",
    "            xcnt=0\n",
    "            if(yn_cnt+y_n[k]<=len(x)):           \n",
    "                for j in range (yn_cnt, yn_cnt+y_n[k]):\n",
    "                    xcnt=xcnt+newx[j][i]\n",
    "            else:\n",
    "                for j in range (yn_cnt,len(x)-yn_cnt):\n",
    "                    xcnt=xcnt+newx[j][i]\n",
    "            yn_cnt=yn_cnt+y_n[k]\n",
    "            prob[k][i]=xcnt/y_n[k]\n",
    "    return prob"
   ]
  },
  {
   "cell_type": "code",
   "execution_count": null,
   "metadata": {
    "collapsed": true
   },
   "outputs": [],
   "source": [
    "from sklearn import datasets\n",
    "\n",
    "iris=datasets.load_iris()\n",
    "x=iris['data']\n",
    "y=iris['target']\n",
    "newx=np.apply_along_axis(lambda x:x>x.mean(),0,x)+0\n",
    "\n",
    "prob=BNB(newx,y)"
   ]
  },
  {
   "cell_type": "code",
   "execution_count": null,
   "metadata": {
    "collapsed": true
   },
   "outputs": [],
   "source": [
    "# Compare results with parameters obtained by sklearn\n",
    "From both methods, we could get the probablilty of each data tuples.\n",
    "However, our def BNB has a crucial weakness: zero probability problem.\n",
    "That is, if we get probability 0, then we should ignore probability of classfication  even if others has big probability.\n",
    "In against to this, sklearn gave me no zero probablity set.\n",
    "To solve this, there is a simple method what is called Laplacian correction. "
   ]
  }
 ],
 "metadata": {
  "kernelspec": {
   "display_name": "Python 3",
   "language": "python",
   "name": "python3"
  },
  "language_info": {
   "codemirror_mode": {
    "name": "ipython",
    "version": 3
   },
   "file_extension": ".py",
   "mimetype": "text/x-python",
   "name": "python",
   "nbconvert_exporter": "python",
   "pygments_lexer": "ipython3",
   "version": "3.5.2"
  }
 },
 "nbformat": 4,
 "nbformat_minor": 0
}
